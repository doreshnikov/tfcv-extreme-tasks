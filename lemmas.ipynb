{
 "cells": [
  {
   "cell_type": "markdown",
   "source": [
    "**Лемма 1**:\n",
    "\n",
    "Векторное поле $A = A_x + iA_y$ имеет поток, равный \n",
    "$$\\int\\limits_{\\gamma} (A, n) ds = \\int\\limits_{\\gamma} A_x dy - A_y dx$$\n",
    "\n",
    "**Доказательство**:\n",
    "\n",
    "Рассмотрим некоторую точку контура $\\gamma$, в которой нормаль имеет координаты $(\\cos\\alpha, \\sin\\alpha)$ и представим вектор $ds$, имеющий бесконечно малую длину, но направленный по касательной к контуру в этой точке в стандартном направлении обхода.\n",
    "\n",
    "Поскольку угол между $ds$ и $n$ равен $90^\\circ$, поэтому угол между $n$ и угол между $ds$ и горизонталью отличаются на те же $90^\\circ$. \n",
    "Таким образом, если представить $dx$ и $dy$ как проекции $ds$, получим, что они равны $-\\sin\\alpha dy$ и $\\cos\\alpha dx$.\n",
    "\n",
    "Поставляя это в исходный интеграл, получаем\n",
    "$$\\int\\limits_{\\gamma} (A, n) ds = \\int\\limits_{\\gamma} A_x (\\cos\\alpha ds) + A_y (\\sin\\alpha ds) = \\int\\limits_{\\gamma} A_x dy - A_y dx$$"
   ],
   "metadata": {
    "collapsed": false
   }
  }
 ],
 "metadata": {
  "language_info": {
   "codemirror_mode": {
    "name": "ipython",
    "version": 2
   },
   "file_extension": ".py",
   "mimetype": "text/x-python",
   "name": "python",
   "nbconvert_exporter": "python",
   "pygments_lexer": "ipython2",
   "version": "2.7.6"
  },
  "kernelspec": {
   "name": "python3",
   "language": "python",
   "display_name": "Python 3"
  },
  "pycharm": {
   "stem_cell": {
    "cell_type": "raw",
    "source": [],
    "metadata": {
     "collapsed": false
    }
   }
  }
 },
 "nbformat": 4,
 "nbformat_minor": 0
}