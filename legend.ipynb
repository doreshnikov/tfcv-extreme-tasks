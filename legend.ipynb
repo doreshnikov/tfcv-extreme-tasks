{
 "cells": [
  {
   "cell_type": "markdown",
   "metadata": {},
   "source": [
    "Дано поле скоростей $V = (v_x, v_y)$, $div V = 0$   \n",
    "Рассмотреть комплексный потенциал $w = f(z) = u(x, y) + iv(x, y)$, $V = \\overline{f'(z)}$, $f'(inf) = \\overline{V_{inf}}$ \n",
    "и разложить его в ряд Лорана.   \n",
    "\n",
    "$\\overline{V}(x, y) = \\frac{dw}{dz} = f'(z)$.   \n",
    "Из человеческих соображений о скорости функция $\\overline{V}(z) = v_x - iv_y$ должна быть определена во всех точках $\\mathbb{R}^2$ вне круга радиуса $R$ (среза нашего цилиндра). Функция должна быть ограничена и принимать V_{inf} на бесконечности. Попробуем разложить её в ряд Лорана по неположительным степеням z: $$\\overline{V}(z) = a_0 + \\frac{a_1}{z} + \\frac{a_2}{z^2} + \\ldots$$   \n",
    "\n",
    "$a_0$ можно найти из значения функции на бесконечности: $V_{inf, x} + iV_{inf, y} = a_0$  \n",
    "\n",
    "Подставим полученный $a_0$ в предыдущее равенство: $$\\frac{dw}{dz} = \\overline{V}(z) = V_{inf, x} + iV_{inf, y} + \\frac{a_1}{z} + \\frac{a_2}{z^2} + \\ldots$$   \n",
    "\n",
    "Проинтегрируем полученное выражение, найдя комплексный потенциал: $$ w(z) =  (V_{inf, x} + iV_{inf, y})z + a_1\\ln(z) + \\sum\\limits_{n=1}^{\\infty}{\\frac{a_i}{z^i}}$$   \n",
    "\n",
    "Так как в нашем ряде нет положительных степеней $z$, условия на бесконечности выполняются при любых $\\{a_t\\}_{t=0}^\\infty$, теперь мы можем найти такие коэффициенты, чтобы они обтекали цилиндр."
   ]
  },
  {
   "cell_type": "code",
   "execution_count": null,
   "metadata": {},
   "outputs": [],
   "source": []
  }
 ],
 "metadata": {
  "kernelspec": {
   "display_name": "Python 3",
   "language": "python",
   "name": "python3"
  },
  "language_info": {
   "codemirror_mode": {
    "name": "ipython",
    "version": 3
   },
   "file_extension": ".py",
   "mimetype": "text/x-python",
   "name": "python",
   "nbconvert_exporter": "python",
   "pygments_lexer": "ipython3",
   "version": "3.5.2"
  }
 },
 "nbformat": 4,
 "nbformat_minor": 2
}
