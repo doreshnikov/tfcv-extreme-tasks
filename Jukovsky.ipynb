{
 "cells": [
  {
   "cell_type": "code",
   "execution_count": 3,
   "metadata": {},
   "outputs": [],
   "source": [
    "import numpy as np\n"
   ]
  },
  {
   "cell_type": "code",
   "execution_count": 5,
   "metadata": {},
   "outputs": [],
   "source": [
    "def velocity_Jukovskiy(z):\n",
    "    w = 1/2 * (z + np.sqrt(z**2 - 4*c**2)) \\\n",
    "        - (1j * k - eps * np.exp(-1j * y/2))\n",
    "    q = np.sqrt(k**2 + c**2) + eps\n",
    "    v_len = np.abs(V_INF)\n",
    "    return v_len * np.exp(-1j*a) * w \\\n",
    "         + v_len * np.exp(1j*a) * q**2 / w \\\n",
    "         + v_len * 2j * q * np.sin(a + y/2) * np.log(w)"
   ]
  },
  {
   "cell_type": "code",
   "execution_count": null,
   "metadata": {},
   "outputs": [],
   "source": []
  }
 ],
 "metadata": {
  "kernelspec": {
   "display_name": "Python 3",
   "language": "python",
   "name": "python3"
  },
  "language_info": {
   "codemirror_mode": {
    "name": "ipython",
    "version": 3
   },
   "file_extension": ".py",
   "mimetype": "text/x-python",
   "name": "python",
   "nbconvert_exporter": "python",
   "pygments_lexer": "ipython3",
   "version": "3.7.3"
  }
 },
 "nbformat": 4,
 "nbformat_minor": 2
}
